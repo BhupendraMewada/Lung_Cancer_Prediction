{
 "cells": [
  {
   "cell_type": "code",
   "execution_count": null,
   "id": "d5342d24",
   "metadata": {},
   "outputs": [],
   "source": [
    "import numpy as np # linear algebra\n",
    "import pandas as pd # data processing, CSV file I/O (e.g. pd.read_csv)\n",
    "\n",
    "# Input data files are available in the read-only \"../input/\" directory\n",
    "# For example, running this (by clicking run or pressing Shift+Enter) will list all files under the input directory\n",
    "\n",
    "import os\n",
    "for dirname, _, filenames in os.walk(r'C:\\Users\\Dell\\Downloads\\capstone\\lung cancer detection using cnn\\The IQ-OTHNCCD lung cancer dataset/'):\n",
    "    for filename in filenames:\n",
    "        print(os.path.join(dirname, filename))"
   ]
  },
  {
   "cell_type": "code",
   "execution_count": null,
   "id": "89e68d3e",
   "metadata": {},
   "outputs": [],
   "source": [
    "%config Completer.use_jedi = False\n",
    "import numpy as np \n",
    "import pandas as pd \n",
    "import matplotlib.pyplot as plt\n",
    "import matplotlib.image as mpimg\n",
    "from PIL import Image\n",
    "import seaborn as sns\n",
    "import cv2\n",
    "import random\n",
    "import os\n",
    "import imageio\n",
    "import plotly.graph_objects as go\n",
    "import plotly.express as px\n",
    "import plotly.figure_factory as ff\n",
    "from plotly.subplots import make_subplots\n",
    "from collections import Counter"
   ]
  },
  {
   "cell_type": "code",
   "execution_count": null,
   "id": "1fd66a8b",
   "metadata": {},
   "outputs": [],
   "source": [
    "directory = r'C:\\Users\\Dell\\Downloads\\capstone\\lung cancer detection using cnn\\The IQ-OTHNCCD lung cancer dataset'\n",
    "cases = ['Bengin cases', 'Malignant cases', 'Normal cases']"
   ]
  },
  {
   "cell_type": "code",
   "execution_count": null,
   "id": "b1173a16",
   "metadata": {},
   "outputs": [],
   "source": [
    "fig, ax = plt.subplots(nrows=3, ncols=15, figsize=(12, 8))\n",
    "\n",
    "for index, case in enumerate(cases):\n",
    "    img_list = os.listdir(os.path.join(directory, case))\n",
    "    for i in range(15):\n",
    "        img = cv2.imread(os.path.join(directory, case, img_list[i]))\n",
    "        ax[index, i].imshow(img)\n",
    "        ax[index, i].axis('off')\n",
    "        if i == 0:\n",
    "            ax[index, i].set_title(case)\n",
    "\n",
    "plt.show()"
   ]
  },
  {
   "cell_type": "code",
   "execution_count": null,
   "id": "5ec37f84",
   "metadata": {},
   "outputs": [],
   "source": [
    "import tensorflow as tf\n",
    "from tensorflow.keras.preprocessing.image import ImageDataGenerator\n",
    "from tensorflow.keras.models import Sequential\n",
    "from tensorflow.keras.layers import Dense, Dropout, Flatten, MaxPooling2D, Conv2D"
   ]
  },
  {
   "cell_type": "code",
   "execution_count": null,
   "id": "97b92440",
   "metadata": {},
   "outputs": [],
   "source": [
    "img_width, img_height = 224, 224\n",
    "batch_size = 50"
   ]
  },
  {
   "cell_type": "code",
   "execution_count": null,
   "id": "61a074a3",
   "metadata": {},
   "outputs": [],
   "source": [
    "datagen = ImageDataGenerator(rescale=1./255, shear_range=0.2, zoom_range=0.2, horizontal_flip=True, validation_split=0.2)"
   ]
  },
  {
   "cell_type": "code",
   "execution_count": null,
   "id": "102322c0",
   "metadata": {},
   "outputs": [],
   "source": [
    "training_data = datagen.flow_from_directory(directory, target_size=(img_width, img_height), batch_size=batch_size, class_mode='categorical', subset='training', shuffle=True, classes=['Bengin cases', 'Malignant cases', 'Normal cases'])\n",
    "testing_data = datagen.flow_from_directory(directory, target_size=(img_width, img_height), batch_size=batch_size, class_mode='categorical', subset='validation', shuffle=True, classes=['Bengin cases', 'Malignant cases', 'Normal cases'])"
   ]
  },
  {
   "cell_type": "code",
   "execution_count": null,
   "id": "3db1f0c6",
   "metadata": {},
   "outputs": [],
   "source": [
    "model = Sequential()\n",
    "\n",
    "model.add(Conv2D(32, (3, 3), activation='relu', input_shape=(img_width, img_height, 3)))\n",
    "model.add(MaxPooling2D((2, 2)))\n",
    "\n",
    "model.add(Conv2D(64, (3, 3), activation='relu'))\n",
    "model.add(MaxPooling2D((2, 2)))\n",
    "\n",
    "model.add(Conv2D(128, (3, 3), activation='relu'))\n",
    "model.add(MaxPooling2D((2, 2)))\n",
    "\n",
    "model.add(Flatten())\n",
    "\n",
    "model.add(Dense(128, activation='relu'))\n",
    "model.add(Dropout(0.5))\n",
    "\n",
    "model.add(Dense(3, activation='softmax'))\n"
   ]
  },
  {
   "cell_type": "code",
   "execution_count": null,
   "id": "46e40aaa",
   "metadata": {},
   "outputs": [],
   "source": [
    "model.summary()"
   ]
  },
  {
   "cell_type": "code",
   "execution_count": null,
   "id": "eacd602e",
   "metadata": {},
   "outputs": [],
   "source": [
    "model.compile(loss='categorical_crossentropy', optimizer='adam', metrics=['accuracy'])"
   ]
  },
  {
   "cell_type": "code",
   "execution_count": null,
   "id": "24103ee9",
   "metadata": {},
   "outputs": [],
   "source": [
    "model.fit(training_data, epochs=5, validation_data=testing_data)\n"
   ]
  },
  {
   "cell_type": "code",
   "execution_count": null,
   "id": "f60b0baf",
   "metadata": {},
   "outputs": [],
   "source": [
    "from tensorflow.keras.preprocessing import image\n",
    "\n",
    "prediction_img = [r'C:\\Users\\Dell\\Downloads\\capstone\\lung cancer detection using cnn/The IQ-OTHNCCD lung cancer dataset/Bengin cases/Bengin case (117).jpg',\n",
    "                   r'C:\\Users\\Dell\\Downloads\\capstone\\lung cancer detection using cnn/The IQ-OTHNCCD lung cancer dataset/Malignant cases/Malignant case (387).jpg', \n",
    "                  r'C:\\Users\\Dell\\Downloads\\capstone\\lung cancer detection using cnn/The IQ-OTHNCCD lung cancer dataset/Normal cases/Normal case (100).jpg']\n",
    "\n",
    "fig, ax = plt.subplots(nrows=1, ncols=3, figsize=(12, 8))\n",
    "\n",
    "for i in range(3):\n",
    "    img = cv2.imread(prediction_img[i])\n",
    "    ax[i].imshow(img)\n",
    "    ax[i].axis('off')\n",
    "    ax[i].set_title(cases[i])\n",
    "    for i in prediction_img:\n",
    "        img = image.load_img(i, target_size=(img_width, img_height))\n",
    "        img_arr = image.img_to_array(img)\n",
    "        img_arr= np.expand_dims(img_arr, axis=0)\n",
    "        img_arr= img_arr/255\n",
    "        predictions = model.predict(img_arr)\n",
    "        predicted_class = np.argmax(predictions)\n",
    "    if predicted_class == 0:\n",
    "        print('Benign')\n",
    "    elif predicted_class == 1:\n",
    "        print('Malignant')\n",
    "    else:\n",
    "        print('Normal')"
   ]
  },
  {
   "cell_type": "code",
   "execution_count": null,
   "id": "203fe9b3",
   "metadata": {},
   "outputs": [],
   "source": [
    "import pickle\n",
    "filename = 'predict_model.pkl'\n",
    "pickle.dump(model, open(filename,'wb'))"
   ]
  },
  {
   "cell_type": "code",
   "execution_count": null,
   "id": "8394683c",
   "metadata": {},
   "outputs": [],
   "source": [
    "# Save the model with .h5 extension\n",
    "model.save('my_model.h5')\n"
   ]
  },
  {
   "cell_type": "code",
   "execution_count": null,
   "id": "c19a8d06",
   "metadata": {},
   "outputs": [],
   "source": [
    "import tensorflow as tf\n",
    "import numpy as np\n",
    "from tensorflow.keras.preprocessing import image\n",
    "\n",
    "# Load the saved model\n",
    "model = tf.keras.models.load_model(r'C:\\Users\\Dell\\Downloads\\capstone\\lung cancer detection using cnn\\my_model.h5')\n",
    "\n",
    "# Load the input image\n",
    "img_path =   r'C:\\Users\\Dell\\Downloads\\capstone\\lung cancer detection using cnn/The IQ-OTHNCCD lung cancer dataset/Normal cases/Normal case (327).jpg'\n",
    "img = image.load_img(img_path, target_size=(224, 224))\n",
    "x = image.img_to_array(img)\n",
    "x = np.expand_dims(x, axis=0)\n",
    "x = x/255.0\n",
    "\n",
    "# Make the prediction\n",
    "preds = model.predict(x)\n",
    "class_idx = np.argmax(preds)\n",
    "classes = ['Bengin cases', 'Malignant cases', 'Normal cases']\n",
    "class_label = classes[class_idx]\n",
    "confidence = preds[0][class_idx] * 100\n",
    "\n",
    "# Print the predicted class and confidence\n",
    "print(\"Predicted Class: {} with confidence {:.2f}%\".format(class_label, confidence))\n"
   ]
  },
  {
   "cell_type": "markdown",
   "id": "33a1997a",
   "metadata": {},
   "source": [
    "\n",
    "#  diff pred code"
   ]
  },
  {
   "cell_type": "code",
   "execution_count": null,
   "id": "7ecfca5d",
   "metadata": {},
   "outputs": [],
   "source": [
    "from tensorflow.keras.preprocessing import image\n",
    "from tensorflow.keras.models import load_model\n",
    "import tensorflow as tf\n",
    "import numpy as np\n",
    "\n",
    "\n",
    "# Load the saved model\n",
    "model = load_model(r'C:\\Users\\Dell\\Downloads\\capstone\\lung cancer detection using cnn\\my_model.h5')\n",
    "\n",
    "img_path =  r'C:\\Users\\Dell\\Downloads\\capstone\\lung cancer detection using cnn/The IQ-OTHNCCD lung cancer dataset/Bengin cases/Bengin case (100).jpg'\n",
    "img = cv2.imread(img_path)\n",
    "plt.imshow(img)\n",
    "plt.axis('off')\n",
    "\n",
    "img = image.load_img(img_path, target_size=(224,224))\n",
    "img_arr = image.img_to_array(img)\n",
    "img_arr = np.expand_dims(img_arr, axis=0)\n",
    "img_arr = img_arr / 255\n",
    "\n",
    "predictions = model.predict(img_arr)\n",
    "predicted_class = np.argmax(predictions)\n",
    "\n",
    "if predicted_class == 0:\n",
    "    print('Benign')\n",
    "elif predicted_class == 1:\n",
    "    print('Malignant')\n",
    "else:\n",
    "    print('Normal')\n"
   ]
  },
  {
   "cell_type": "markdown",
   "id": "7cffc8ec",
   "metadata": {},
   "source": [
    "# diff pred code"
   ]
  },
  {
   "cell_type": "code",
   "execution_count": null,
   "id": "7583f36d",
   "metadata": {},
   "outputs": [],
   "source": [
    "import cv2\n",
    "import numpy as np\n",
    "\n",
    "# Load the image\n",
    "img_path = r'C:\\Users\\Dell\\Downloads\\capstone\\lung cancer detection using cnn\\The IQ-OTHNCCD lung cancer dataset\\Normal cases\\Normal case (1).jpg'\n",
    "img = cv2.imread(img_path)\n",
    "\n",
    "# Resize the image to the desired dimensions\n",
    "img_width, img_height = 224, 224\n",
    "img = cv2.resize(img, (img_width, img_height))\n",
    "\n",
    "# Convert the color space to RGB\n",
    "img = cv2.cvtColor(img, cv2.COLOR_BGR2RGB)\n",
    "\n",
    "# Normalize the pixel values to be between 0 and 1\n",
    "img = img / 255.0\n"
   ]
  },
  {
   "cell_type": "code",
   "execution_count": null,
   "id": "732d7e4a",
   "metadata": {},
   "outputs": [],
   "source": [
    "# Reshape the image to match the input shape of the model\n",
    "img = img.reshape((1, img_width, img_height, 3))\n",
    "\n",
    "# Make a prediction\n",
    "prediction = model.predict(img)\n",
    "\n",
    "# Print the prediction\n",
    "print(prediction)\n"
   ]
  },
  {
   "cell_type": "code",
   "execution_count": null,
   "id": "155eb231",
   "metadata": {},
   "outputs": [],
   "source": [
    "# Get the index of the highest probability\n",
    "predicted_class_index = np.argmax(prediction)\n",
    "\n",
    "# Map the index to the corresponding label\n",
    "class_labels = ['Bengin', 'Malignant', 'Normal']\n",
    "predicted_class_label = class_labels[predicted_class_index]\n",
    "\n",
    "# Print the predicted class label\n",
    "print(predicted_class_label)\n"
   ]
  },
  {
   "cell_type": "code",
   "execution_count": null,
   "id": "cdc96795",
   "metadata": {},
   "outputs": [],
   "source": [
    "import tensorflow as tf\n",
    "import numpy as np\n",
    "from tensorflow.keras.preprocessing import image\n",
    "import matplotlib.pyplot as plt\n",
    "from PIL import Image\n",
    "\n",
    "# Load the saved model\n",
    "model = tf.keras.models.load_model(r'C:\\Users\\Dell\\Downloads\\capstone\\lung cancer detection using cnn\\my_model.h5')\n",
    "\n",
    "# Take input image from user\n",
    "img_path = input(\"Enter the path to the image file: \")\n",
    "img = Image.open(img_path)\n",
    "\n",
    "# Display the input image\n",
    "plt.imshow(img)\n",
    "plt.axis('off')\n",
    "plt.show()\n",
    "\n",
    "# Preprocess the input image\n",
    "img = img.resize((224, 224))\n",
    "x = image.img_to_array(img)\n",
    "x = np.expand_dims(x, axis=0)\n",
    "x = x/255.0\n",
    "\n",
    "# Make the prediction\n",
    "preds = model.predict(x)\n",
    "class_idx = np.argmax(preds)\n",
    "classes = ['Benign', 'Malignant', 'Normal']\n",
    "class_label = classes[class_idx]\n",
    "confidence = preds[0][class_idx] * 100\n",
    "\n",
    "# Print the predicted class and confidence\n",
    "print(\"Predicted Class: {} with confidence {:.2f}%\".format(class_label, confidence))\n"
   ]
  },
  {
   "cell_type": "code",
   "execution_count": null,
   "id": "303b1d4b",
   "metadata": {},
   "outputs": [],
   "source": []
  }
 ],
 "metadata": {
  "kernelspec": {
   "display_name": "Python 3 (ipykernel)",
   "language": "python",
   "name": "python3"
  },
  "language_info": {
   "codemirror_mode": {
    "name": "ipython",
    "version": 3
   },
   "file_extension": ".py",
   "mimetype": "text/x-python",
   "name": "python",
   "nbconvert_exporter": "python",
   "pygments_lexer": "ipython3",
   "version": "3.10.9"
  }
 },
 "nbformat": 4,
 "nbformat_minor": 5
}
