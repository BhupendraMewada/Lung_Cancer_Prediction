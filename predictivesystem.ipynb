{
 "cells": [
  {
   "cell_type": "code",
   "execution_count": 6,
   "id": "969c0ae7",
   "metadata": {},
   "outputs": [
    {
     "name": "stdout",
     "output_type": "stream",
     "text": [
      "Do you have a X-ray ?\n",
      "1. Yes ,I have an X-ray\n",
      "2. No , Prediction diseases with Symptoms\n",
      "Enter 1 or 2: 2\n",
      "Please answer the following questions with 2 for \"Yes\" and 1 for \"No\".\n",
      "Do you have yellow fingers? 2\n",
      "Do you suffer from anxiety? 1\n",
      "Do you experience fatigue? 1\n",
      "Do you experience wheezing? 1\n",
      "Do you have a persistent cough? 2\n",
      "Do you experience shortness of breath? 2\n",
      "Do you have difficulty swallowing? 1\n",
      "Do you experience chest pain? 1\n",
      "Based on your symptoms, you are not at high risk for lung cancer. However, it is still important to maintain good health habits and see a doctor regularly.\n"
     ]
    },
    {
     "name": "stderr",
     "output_type": "stream",
     "text": [
      "C:\\Users\\Dell\\anaconda3\\lib\\site-packages\\sklearn\\base.py:420: UserWarning: X does not have valid feature names, but RandomForestClassifier was fitted with feature names\n",
      "  warnings.warn(\n"
     ]
    }
   ],
   "source": [
    "import numpy as np\n",
    "import pickle\n",
    "import tensorflow as tf\n",
    "from tensorflow.keras.preprocessing import image\n",
    "import matplotlib.pyplot as plt\n",
    "from PIL import Image\n",
    "\n",
    "# Load the saved models\n",
    "loaded_model = pickle.load(open(r'C:\\Users\\Dell\\Downloads\\capstone\\Lung Cancer Prediction with Symptoms/trained_model.pkl', 'rb'))\n",
    "cnn_model = tf.keras.models.load_model(r'C:\\Users\\Dell\\Downloads\\capstone\\lung cancer detection using cnn\\my_model.h5')\n",
    "\n",
    "# Ask the user which code to execute\n",
    "print('Do you have a X-ray ?')\n",
    "print('1. Yes ,I have an X-ray')\n",
    "print('2. No , Prediction diseases with Symptoms')\n",
    "\n",
    "choice = int(input('Enter 1 or 2: '))\n",
    "\n",
    "if choice == 1:\n",
    "     # Take input image from user\n",
    "    img_path = input(\"Enter the path to the X-ray file: \")\n",
    "    img = Image.open(img_path)\n",
    "\n",
    "    # Display the input image\n",
    "    plt.imshow(img)\n",
    "    plt.axis('off')\n",
    "    plt.show()\n",
    "\n",
    "    # Preprocess the input image\n",
    "    img = img.resize((224, 224))\n",
    "    x = image.img_to_array(img)\n",
    "    x = np.expand_dims(x, axis=0)\n",
    "    x = x/255.0\n",
    "\n",
    "    # Make the prediction\n",
    "    preds = cnn_model.predict(x)\n",
    "    class_idx = np.argmax(preds)\n",
    "    classes = ['Benign', 'Malignant', 'Normal']\n",
    "    class_label = classes[class_idx]\n",
    "    confidence = preds[0][class_idx] * 100\n",
    "\n",
    "    # Print the predicted class and confidence\n",
    "    print(\"Predicted Class: {} with confidence {:.2f}%\".format(class_label, confidence))\n",
    "   \n",
    "    \n",
    "elif choice == 2:\n",
    "     # Define a function to take user input and make predictions\n",
    "    def make_prediction():\n",
    "        # Get user input for each symptom\n",
    "        print('Please answer the following questions with 2 for \"Yes\" and 1 for \"No\".')\n",
    "        yellow_fingers = input('Do you have yellow fingers? ')\n",
    "        anxiety = input('Do you suffer from anxiety? ')\n",
    "        fatigue = input('Do you experience fatigue? ')\n",
    "        wheezing = input('Do you experience wheezing? ')\n",
    "        coughing = input('Do you have a persistent cough? ')\n",
    "        shortness_of_breath = input('Do you experience shortness of breath? ')\n",
    "        swallowing_difficulty = input('Do you have difficulty swallowing? ')\n",
    "        chest_pain = input('Do you experience chest pain? ')\n",
    "        \n",
    "        # Convert user input to a list of integers\n",
    "        user_input = [int(yellow_fingers), int(anxiety), int(fatigue), int(wheezing), int(coughing), int(shortness_of_breath), int(swallowing_difficulty), int(chest_pain)]\n",
    "        \n",
    "        # Use the loaded model to make a prediction based on user input\n",
    "        prediction = loaded_model.predict([user_input])[0]\n",
    "        \n",
    "        # Print the prediction\n",
    "        if prediction > 0.5:\n",
    "            print('Based on your symptoms, you are at high risk for lung cancer. Please see a doctor for further evaluation.')\n",
    "        else:\n",
    "            print('Based on your symptoms, you are not at high risk for lung cancer. However, it is still important to maintain good health habits and see a doctor regularly.')\n",
    "            \n",
    "    # Call the function to make a prediction\n",
    "    make_prediction()\n",
    "   \n",
    "    \n",
    "else:\n",
    "    print('Invalid choice. Please enter 1 or 2.') \n"
   ]
  },
  {
   "cell_type": "code",
   "execution_count": null,
   "id": "13ab1d22",
   "metadata": {},
   "outputs": [],
   "source": []
  }
 ],
 "metadata": {
  "kernelspec": {
   "display_name": "Python 3 (ipykernel)",
   "language": "python",
   "name": "python3"
  },
  "language_info": {
   "codemirror_mode": {
    "name": "ipython",
    "version": 3
   },
   "file_extension": ".py",
   "mimetype": "text/x-python",
   "name": "python",
   "nbconvert_exporter": "python",
   "pygments_lexer": "ipython3",
   "version": "3.10.9"
  }
 },
 "nbformat": 4,
 "nbformat_minor": 5
}
